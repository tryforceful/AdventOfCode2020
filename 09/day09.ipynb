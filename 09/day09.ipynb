{
 "cells": [
  {
   "cell_type": "code",
   "execution_count": 126,
   "metadata": {},
   "outputs": [],
   "source": [
    "SAMPLE=False\n",
    "\n",
    "PREAMBLE_SIZE=5 if SAMPLE else 25\n",
    "\n",
    "f=open('input_sample.txt' if SAMPLE else 'input.txt')\n",
    "input = tuple(int(x) for x in f.read().split('\\n')[:-1])"
   ]
  },
  {
   "attachments": {},
   "cell_type": "markdown",
   "metadata": {},
   "source": [
    "### Part 1"
   ]
  },
  {
   "cell_type": "code",
   "execution_count": 123,
   "metadata": {},
   "outputs": [
    {
     "name": "stdout",
     "output_type": "stream",
     "text": [
      "Found the first failure: 18272118\n"
     ]
    }
   ],
   "source": [
    "def stepGenerator():\n",
    "  sums=[input[x]+input[y] for x in range(1,PREAMBLE_SIZE) for y in range(x)]\n",
    "  i=PREAMBLE_SIZE\n",
    "  while True:\n",
    "    if i >= len(input):\n",
    "      return False\n",
    "    if input[i] not in sums:\n",
    "      return input[i]\n",
    "\n",
    "    # remove old sums\n",
    "    k=0\n",
    "    for j in range(PREAMBLE_SIZE-1):\n",
    "      sums.pop(k); k+=j\n",
    "\n",
    "    # add new sums\n",
    "    sums.extend(input[x]+input[i] for x in range(i-PREAMBLE_SIZE+1, i))\n",
    "\n",
    "    yield input[i]\n",
    "    i+=1\n",
    "\n",
    "stepper = stepGenerator()\n",
    "\n",
    "invalid=None\n",
    "try:\n",
    "  while next(stepper):\n",
    "    pass\n",
    "except StopIteration as result:\n",
    "  invalid:int=result.args[0]\n",
    "  print('Found the first failure:', invalid)"
   ]
  },
  {
   "attachments": {},
   "cell_type": "markdown",
   "metadata": {},
   "source": [
    "### Part 2"
   ]
  },
  {
   "cell_type": "code",
   "execution_count": 127,
   "metadata": {},
   "outputs": [
    {
     "data": {
      "text/plain": [
       "2186361"
      ]
     },
     "execution_count": 127,
     "metadata": {},
     "output_type": "execute_result"
    }
   ],
   "source": [
    "source=list(input)\n",
    "window=[]\n",
    "\n",
    "while (y := sum(window)) != invalid:\n",
    "  if y < invalid:\n",
    "    window.append(source.pop(0))\n",
    "  else:\n",
    "    window.pop(0)\n",
    "\n",
    "window.sort()\n",
    "window[0]+window[-1]"
   ]
  }
 ],
 "metadata": {
  "kernelspec": {
   "display_name": "tutorial-env",
   "language": "python",
   "name": "python3"
  },
  "language_info": {
   "codemirror_mode": {
    "name": "ipython",
    "version": 3
   },
   "file_extension": ".py",
   "mimetype": "text/x-python",
   "name": "python",
   "nbconvert_exporter": "python",
   "pygments_lexer": "ipython3",
   "version": "3.8.9"
  },
  "orig_nbformat": 4,
  "vscode": {
   "interpreter": {
    "hash": "6e5366f6832586de81415026a94192533c7e3eae2b1f681a9f6fc3cd22ae0fb1"
   }
  }
 },
 "nbformat": 4,
 "nbformat_minor": 2
}
