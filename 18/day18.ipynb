{
 "cells": [
  {
   "cell_type": "code",
   "execution_count": 95,
   "metadata": {},
   "outputs": [],
   "source": [
    "SAMPLE=False\n",
    "\n",
    "f=open('input_sample.txt' if SAMPLE else 'input.txt')\n",
    "\n",
    "input=tuple([(int(q) if q.isdigit() else q) for q in line.replace(' ','')] for line in f.read().splitlines())\n",
    "if SAMPLE: print(input)"
   ]
  },
  {
   "attachments": {},
   "cell_type": "markdown",
   "metadata": {},
   "source": [
    "### Part 1"
   ]
  },
  {
   "cell_type": "code",
   "execution_count": 126,
   "metadata": {},
   "outputs": [
    {
     "data": {
      "text/plain": [
       "650217205854"
      ]
     },
     "execution_count": 126,
     "metadata": {},
     "output_type": "execute_result"
    }
   ],
   "source": [
    "from typing import Iterator, Callable\n",
    "from operator import mul, add\n",
    "\n",
    "def reduce(expr_iter: Iterator[str]) -> int:\n",
    "  level = []\n",
    "\n",
    "  while char := next(expr_iter, False):\n",
    "    if char=='(':\n",
    "      level.append(reduce(expr_iter))\n",
    "    elif char==')':\n",
    "      break\n",
    "    else:\n",
    "      level.append(char)\n",
    "\n",
    "  # now level should be a flat level we can compute\n",
    "  while len(level) > 1:\n",
    "    l,op,r=level[0:3]\n",
    "    level[0:3]=[(mul if op=='*' else add)(l,r)]\n",
    "\n",
    "  return level[0]\n",
    "\n",
    "summ = sum(reduce(iter(line)) for line in input)\n",
    "\n",
    "if not SAMPLE: assert(summ == 650217205854)\n",
    "\n",
    "summ"
   ]
  },
  {
   "attachments": {},
   "cell_type": "markdown",
   "metadata": {},
   "source": [
    "### Part 2"
   ]
  },
  {
   "cell_type": "code",
   "execution_count": 121,
   "metadata": {},
   "outputs": [
    {
     "data": {
      "text/plain": [
       "20394514442037"
      ]
     },
     "execution_count": 121,
     "metadata": {},
     "output_type": "execute_result"
    }
   ],
   "source": [
    "from typing import Iterator, Callable\n",
    "\n",
    "def reduce(expr_iter: Iterator[str]) -> int:\n",
    "  level = []\n",
    "\n",
    "  while char := next(expr_iter, False):\n",
    "    if char=='(':\n",
    "      level.append(reduce(expr_iter))\n",
    "    elif char==')':\n",
    "      break\n",
    "    else:\n",
    "      level.append(char)\n",
    "\n",
    "  # now level should be a flat level we can compute\n",
    "  while len(level) > 1:\n",
    "    if '+' in level:\n",
    "      idx=level.index('+')\n",
    "      level[idx-1:idx+2]=[level[idx-1]+level[idx+1]]\n",
    "    elif '*' in level:\n",
    "      idx=level.index('*')\n",
    "      level[idx-1:idx+2]=[level[idx-1]*level[idx+1]]\n",
    "\n",
    "  return level[0]\n",
    "\n",
    "summ = sum(reduce(iter(line)) for line in input)\n",
    "\n",
    "if not SAMPLE: assert(summ == 20394514442037)\n",
    "\n",
    "summ"
   ]
  }
 ],
 "metadata": {
  "kernelspec": {
   "display_name": "Python 3",
   "language": "python",
   "name": "python3"
  },
  "language_info": {
   "codemirror_mode": {
    "name": "ipython",
    "version": 3
   },
   "file_extension": ".py",
   "mimetype": "text/x-python",
   "name": "python",
   "nbconvert_exporter": "python",
   "pygments_lexer": "ipython3",
   "version": "3.11.1"
  },
  "orig_nbformat": 4,
  "vscode": {
   "interpreter": {
    "hash": "aee8b7b246df8f9039afb4144a1f6fd8d2ca17a180786b69acc140d282b71a49"
   }
  }
 },
 "nbformat": 4,
 "nbformat_minor": 2
}
