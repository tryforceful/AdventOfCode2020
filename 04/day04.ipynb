{
 "cells": [
  {
   "cell_type": "code",
   "execution_count": 120,
   "metadata": {},
   "outputs": [],
   "source": [
    "import re\n",
    "\n",
    "SAMPLE=False\n",
    "\n",
    "f=open('input_sample.txt' if SAMPLE else 'input.txt')\n",
    "input: \"list[list[tuple[str, str]]]\" = [[tuple(y.split(':')) for y in re.split('\\s', x) if y] for x in f.read().split('\\n\\n')]\n",
    "# input"
   ]
  },
  {
   "attachments": {},
   "cell_type": "markdown",
   "metadata": {},
   "source": [
    "### Part 1"
   ]
  },
  {
   "cell_type": "code",
   "execution_count": 121,
   "metadata": {},
   "outputs": [
    {
     "data": {
      "text/plain": [
       "170"
      ]
     },
     "execution_count": 121,
     "metadata": {},
     "output_type": "execute_result"
    }
   ],
   "source": [
    "valid=0\n",
    "for passport in input:\n",
    "  required = ['byr','iyr','eyr','hgt','hcl','ecl','pid']\n",
    "  for (field,f) in passport:\n",
    "    if field in required:\n",
    "      required.remove(field)\n",
    "  valid+=1 if len(required)==0 else 0\n",
    "valid"
   ]
  },
  {
   "attachments": {},
   "cell_type": "markdown",
   "metadata": {},
   "source": [
    "### Part 2"
   ]
  },
  {
   "cell_type": "code",
   "execution_count": 135,
   "metadata": {},
   "outputs": [
    {
     "data": {
      "text/plain": [
       "103"
      ]
     },
     "execution_count": 135,
     "metadata": {},
     "output_type": "execute_result"
    }
   ],
   "source": [
    "valid = 0\n",
    "rules = {\n",
    "  \"byr\": lambda a: int(a) >= 1920 and int(a) <= 2002,\n",
    "  \"iyr\": lambda a: int(a) >= 2010 and int(a) <= 2020,\n",
    "  \"eyr\": lambda a: int(a) >= 2020 and int(a) <= 2030,\n",
    "  \"hgt\": lambda a: ((a[-2:] == 'cm' and (y := int(a[:-2])) <= 193 and y >= 150) or (a[-2:] == 'in' and (y := int(a[:-2])) <= 76 and y >= 59)),\n",
    "  \"hcl\": lambda a: re.fullmatch('#[0-9a-f]{6}', a) is not None,\n",
    "  \"ecl\": lambda a: a in ('amb','blu','brn','gry','grn','hzl','oth'),\n",
    "  \"pid\": lambda a: re.fullmatch('\\d{9}', a) is not None,\n",
    "}\n",
    "for passport in input:\n",
    "  required = [*rules.keys()]\n",
    "  for (field, value) in passport:\n",
    "    if field in required and rules[field](value):\n",
    "      required.remove(field)\n",
    "  valid += 1 if len(required) == 0 else 0\n",
    "\n",
    "assert(valid==103)\n",
    "valid"
   ]
  }
 ],
 "metadata": {
  "kernelspec": {
   "display_name": "tutorial-env",
   "language": "python",
   "name": "python3"
  },
  "language_info": {
   "codemirror_mode": {
    "name": "ipython",
    "version": 3
   },
   "file_extension": ".py",
   "mimetype": "text/x-python",
   "name": "python",
   "nbconvert_exporter": "python",
   "pygments_lexer": "ipython3",
   "version": "3.8.9"
  },
  "orig_nbformat": 4,
  "vscode": {
   "interpreter": {
    "hash": "6e5366f6832586de81415026a94192533c7e3eae2b1f681a9f6fc3cd22ae0fb1"
   }
  }
 },
 "nbformat": 4,
 "nbformat_minor": 2
}
