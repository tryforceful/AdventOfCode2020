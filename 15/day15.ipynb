{
 "cells": [
  {
   "cell_type": "code",
   "execution_count": 53,
   "metadata": {},
   "outputs": [
    {
     "name": "stdout",
     "output_type": "stream",
     "text": [
      "[(2, 1, 10, 11, 0, 6)]\n"
     ]
    }
   ],
   "source": [
    "SAMPLE=False\n",
    "\n",
    "f=open('input_sample.txt' if SAMPLE else 'input.txt')\n",
    "\n",
    "input=[tuple(int(y) for y in line.split(',')) for line in f.read().split('\\n')[:-1]]\n",
    "print(input)"
   ]
  },
  {
   "attachments": {},
   "cell_type": "markdown",
   "metadata": {},
   "source": [
    "### Part 1"
   ]
  },
  {
   "cell_type": "code",
   "execution_count": 54,
   "metadata": {},
   "outputs": [
    {
     "name": "stdout",
     "output_type": "stream",
     "text": [
      "turn 2020: 232\n",
      "------\n",
      "turn 30000000: 18929178\n",
      "------\n"
     ]
    }
   ],
   "source": [
    "def gameTurn(input = input):\n",
    "  yield from input # starting items\n",
    "\n",
    "  memory = dict(zip(input[:-1], range(1,len(input))))\n",
    "  last = input[-1]\n",
    "  turn = len(input)+1\n",
    "\n",
    "  while True:\n",
    "    mem = memory.get(last)\n",
    "    current = 0 if mem is None else turn - mem - 1\n",
    "\n",
    "    yield f'turn {turn}: {current}'\n",
    "\n",
    "    memory[last] = turn-1\n",
    "    last = current\n",
    "    turn += 1\n",
    "\n",
    "\n",
    "def skipToDesiredTurn(seed, desiredTurn=2020):\n",
    "  turner = gameTurn(seed)\n",
    "\n",
    "  for i in range(desiredTurn-1):\n",
    "    next(turner)\n",
    "\n",
    "  print(next(turner))\n",
    "  print('------')\n",
    "\n",
    "for preset in input:\n",
    "  skipToDesiredTurn(preset)\n",
    "  skipToDesiredTurn(preset, 30000000)\n"
   ]
  },
  {
   "attachments": {},
   "cell_type": "markdown",
   "metadata": {},
   "source": [
    "### Part 2"
   ]
  },
  {
   "attachments": {},
   "cell_type": "markdown",
   "metadata": {},
   "source": [
    "The performance for generating turn #30000000 with the above code is not \"great\" (20s) but was also good enough to solve this puzzle and move on.\n",
    "\n",
    "Improvements could be made later possibly by identifying a repeating pattern."
   ]
  }
 ],
 "metadata": {
  "kernelspec": {
   "display_name": "tutorial-env",
   "language": "python",
   "name": "python3"
  },
  "language_info": {
   "codemirror_mode": {
    "name": "ipython",
    "version": 3
   },
   "file_extension": ".py",
   "mimetype": "text/x-python",
   "name": "python",
   "nbconvert_exporter": "python",
   "pygments_lexer": "ipython3",
   "version": "3.8.9"
  },
  "orig_nbformat": 4,
  "vscode": {
   "interpreter": {
    "hash": "6e5366f6832586de81415026a94192533c7e3eae2b1f681a9f6fc3cd22ae0fb1"
   }
  }
 },
 "nbformat": 4,
 "nbformat_minor": 2
}
