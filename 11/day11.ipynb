{
 "cells": [
  {
   "cell_type": "code",
   "execution_count": 140,
   "metadata": {},
   "outputs": [],
   "source": [
    "from typing import Literal\n",
    "\n",
    "SAMPLE=False\n",
    "\n",
    "f=open('input_sample.txt' if SAMPLE else 'input.txt')\n",
    "input:\"list[list[Literal['.', 'L', '#']]]\" = [[*x] for x in f.read().split('\\n')[:-1]]\n",
    "# input"
   ]
  },
  {
   "attachments": {},
   "cell_type": "markdown",
   "metadata": {},
   "source": [
    "### Part 1"
   ]
  },
  {
   "cell_type": "code",
   "execution_count": 141,
   "metadata": {},
   "outputs": [
    {
     "name": "stdout",
     "output_type": "stream",
     "text": [
      "2249\n"
     ]
    },
    {
     "ename": "AssertionError",
     "evalue": "",
     "output_type": "error",
     "traceback": [
      "\u001b[0;31m---------------------------------------------------------------------------\u001b[0m",
      "\u001b[0;31mStopIteration\u001b[0m                             Traceback (most recent call last)",
      "Cell \u001b[0;32mIn[141], line 41\u001b[0m\n\u001b[1;32m     40\u001b[0m \u001b[39mtry\u001b[39;00m:\n\u001b[0;32m---> 41\u001b[0m   \u001b[39mwhile\u001b[39;00m (\u001b[39mnext\u001b[39m(seatStep)): \u001b[39mpass\u001b[39;00m\n\u001b[1;32m     42\u001b[0m     \u001b[39m# print(\"\\n\".join(\"\".join(x) for x in y)+'\\n\\n')\u001b[39;00m\n",
      "\u001b[0;31mStopIteration\u001b[0m: 2249",
      "\nDuring handling of the above exception, another exception occurred:\n",
      "\u001b[0;31mAssertionError\u001b[0m                            Traceback (most recent call last)",
      "Cell \u001b[0;32mIn[141], line 45\u001b[0m\n\u001b[1;32m     43\u001b[0m \u001b[39mexcept\u001b[39;00m \u001b[39mStopIteration\u001b[39;00m \u001b[39mas\u001b[39;00m result:\n\u001b[1;32m     44\u001b[0m   \u001b[39mprint\u001b[39m(result)\n\u001b[0;32m---> 45\u001b[0m   \u001b[39mif\u001b[39;00m \u001b[39mnot\u001b[39;00m SAMPLE: \u001b[39massert\u001b[39;00m(result\u001b[39m==\u001b[39m\u001b[39m2249\u001b[39m)\n",
      "\u001b[0;31mAssertionError\u001b[0m: "
     ]
    }
   ],
   "source": [
    "import copy\n",
    "\n",
    "ADJACENCIES = ((0,1),(1,1),(1,0),(1,-1),(0,-1),(-1,-1),(-1,0),(-1,1))\n",
    "\n",
    "def generateHumanSeater(PART_TWO=False):\n",
    "  seats = copy.deepcopy(input)\n",
    "  HEIGHT=len(seats)\n",
    "  WIDTH=len(seats[0])\n",
    "\n",
    "  def walk(a,b,i,j):\n",
    "    dx=i+a; dy=j+b\n",
    "    while dx >= 0 and dx < HEIGHT and dy >= 0 and dy < WIDTH:\n",
    "      if not PART_TWO or seats[dx][dy] != '.':\n",
    "        return (dx,dy)\n",
    "      dx+=a; dy+=b\n",
    "    return False\n",
    "\n",
    "  while True:\n",
    "    newmap=copy.deepcopy(seats)\n",
    "\n",
    "    for i,line in enumerate(seats):\n",
    "      for j,seat in enumerate(line):\n",
    "        if seat != '.':\n",
    "          neighbors = (z for (a,b) in ADJACENCIES if (z:=walk(a,b,i,j)))\n",
    "          occupieds=[seats[dx][dy] for dx, dy in neighbors].count('#')\n",
    "\n",
    "          if occupieds==0:\n",
    "            newmap[i][j]='#'\n",
    "          elif occupieds >= (5 if PART_TWO else 4):\n",
    "            newmap[i][j]='L'\n",
    "\n",
    "    yield newmap\n",
    "    if seats==newmap:\n",
    "      # print(\"\\n\".join(\"\".join(x) for x in newmap))\n",
    "      return \"\".join(\"\".join(x) for x in newmap).count('#')\n",
    "    seats=newmap\n",
    "\n",
    "seatStep = generateHumanSeater()\n",
    "\n",
    "try:\n",
    "  while (next(seatStep)): pass\n",
    "    # print(\"\\n\".join(\"\".join(x) for x in y)+'\\n\\n')\n",
    "except StopIteration as result:\n",
    "  print(result)\n",
    "  if not SAMPLE: assert(result.value==2249)"
   ]
  },
  {
   "attachments": {},
   "cell_type": "markdown",
   "metadata": {},
   "source": [
    "### Part 2"
   ]
  },
  {
   "cell_type": "code",
   "execution_count": 143,
   "metadata": {},
   "outputs": [
    {
     "name": "stdout",
     "output_type": "stream",
     "text": [
      "2023\n"
     ]
    }
   ],
   "source": [
    "part2Stepper = generateHumanSeater(True)\n",
    "\n",
    "try:\n",
    "  while (next(part2Stepper)): pass\n",
    "    # print(\"\\n\".join(\"\".join(x) for x in y)+'\\n\\n')\n",
    "except StopIteration as result:\n",
    "  print(result)\n",
    "  if not SAMPLE: assert(result.value==2023)"
   ]
  }
 ],
 "metadata": {
  "kernelspec": {
   "display_name": "tutorial-env",
   "language": "python",
   "name": "python3"
  },
  "language_info": {
   "codemirror_mode": {
    "name": "ipython",
    "version": 3
   },
   "file_extension": ".py",
   "mimetype": "text/x-python",
   "name": "python",
   "nbconvert_exporter": "python",
   "pygments_lexer": "ipython3",
   "version": "3.8.9"
  },
  "orig_nbformat": 4,
  "vscode": {
   "interpreter": {
    "hash": "6e5366f6832586de81415026a94192533c7e3eae2b1f681a9f6fc3cd22ae0fb1"
   }
  }
 },
 "nbformat": 4,
 "nbformat_minor": 2
}
