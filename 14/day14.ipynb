{
 "cells": [
  {
   "cell_type": "code",
   "execution_count": 6,
   "metadata": {},
   "outputs": [],
   "source": [
    "SAMPLE=False\n",
    "\n",
    "f=open('input_sample.txt' if SAMPLE else 'input.txt')\n",
    "\n",
    "input=tuple(x.split(' = ') for x in f.read().split('\\n')[:-1])\n",
    "# print(input)"
   ]
  },
  {
   "attachments": {},
   "cell_type": "markdown",
   "metadata": {},
   "source": [
    "### Part 1"
   ]
  },
  {
   "cell_type": "code",
   "execution_count": 7,
   "metadata": {},
   "outputs": [
    {
     "name": "stdout",
     "output_type": "stream",
     "text": [
      "6386593869035\n"
     ]
    }
   ],
   "source": [
    "memory = {}\n",
    "orMask = 0\n",
    "andMask = 68719476735  # 2**36 - 1\n",
    "\n",
    "for l, r in input:\n",
    "  if l == \"mask\":\n",
    "    orMask = int(r.replace('X','0'),2)\n",
    "    andMask = int(r.replace('X','1'),2)\n",
    "  else:\n",
    "    memory[l[4:-1]] = int(r) & andMask | orMask\n",
    "\n",
    "thesum = sum(memory.values())\n",
    "\n",
    "assert(thesum == 165 if SAMPLE else 6386593869035)\n",
    "print(thesum)"
   ]
  },
  {
   "attachments": {},
   "cell_type": "markdown",
   "metadata": {},
   "source": [
    "### Part 2"
   ]
  },
  {
   "attachments": {},
   "cell_type": "markdown",
   "metadata": {},
   "source": [
    "With a quick test of the true input data, there are only `17088` maximum data combinations across all masks.\n",
    "\n",
    "```py\n",
    "sum(2**r.count('X') for (l, r) in input if l == \"mask\")\n",
    "```\n",
    "> 17088\n",
    "\n",
    "So it seems safe to use a `dict` to store the values. In reality we'll have a few multiples more of this value based on how many times the mask is used before the mask is changed."
   ]
  },
  {
   "cell_type": "code",
   "execution_count": 8,
   "metadata": {},
   "outputs": [],
   "source": [
    "f=open('input_sample_part2.txt' if SAMPLE else 'input.txt')\n",
    "\n",
    "input=tuple(x.split(' = ') for x in f.read().split('\\n')[:-1])"
   ]
  },
  {
   "cell_type": "code",
   "execution_count": 9,
   "metadata": {},
   "outputs": [
    {
     "name": "stdout",
     "output_type": "stream",
     "text": [
      "4288986482164\n"
     ]
    }
   ],
   "source": [
    "memory = {}\n",
    "floatMask = ''\n",
    "orMask = 0\n",
    "andMask = 68719476735  # 2**36 - 1\n",
    "\n",
    "def genFloatingAddrs(bitString: str):\n",
    "  if bitString:\n",
    "    if bitString.find('X') >= 0:\n",
    "      yield from genFloatingAddrs(bitString.replace('X','0',1))\n",
    "      yield from genFloatingAddrs(bitString.replace('X','1',1))\n",
    "    else:\n",
    "      yield int(bitString, 2)\n",
    "\n",
    "for l, r in input:\n",
    "  if l == \"mask\":\n",
    "    floatMask = r\n",
    "    orMask = int(r.replace('X','0'),2)\n",
    "    andMask = int(r.replace('0','1').replace('X','0'),2)\n",
    "\n",
    "  else:\n",
    "    masked = int(l[4:-1]) & andMask | orMask\n",
    "    int_r = int(r)\n",
    "    for floatCombo in genFloatingAddrs(floatMask):\n",
    "      memory[masked | floatCombo] = int_r\n",
    "\n",
    "thesum = sum(memory.values())\n",
    "print(thesum)\n",
    "if SAMPLE: print(memory)\n",
    "\n",
    "assert(thesum == 208 if SAMPLE else 4288986482164)"
   ]
  }
 ],
 "metadata": {
  "kernelspec": {
   "display_name": "tutorial-env",
   "language": "python",
   "name": "python3"
  },
  "language_info": {
   "codemirror_mode": {
    "name": "ipython",
    "version": 3
   },
   "file_extension": ".py",
   "mimetype": "text/x-python",
   "name": "python",
   "nbconvert_exporter": "python",
   "pygments_lexer": "ipython3",
   "version": "3.8.9"
  },
  "orig_nbformat": 4,
  "vscode": {
   "interpreter": {
    "hash": "6e5366f6832586de81415026a94192533c7e3eae2b1f681a9f6fc3cd22ae0fb1"
   }
  }
 },
 "nbformat": 4,
 "nbformat_minor": 2
}
