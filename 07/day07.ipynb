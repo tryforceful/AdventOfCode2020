{
 "cells": [
  {
   "cell_type": "code",
   "execution_count": 154,
   "metadata": {},
   "outputs": [],
   "source": [
    "import re\n",
    "\n",
    "SAMPLE=False\n",
    "\n",
    "regex = re.compile('(\\d* ?\\w+ \\w+)(?<!no other) bag')\n",
    "\n",
    "f=open('input_sample2.txt' if SAMPLE else 'input.txt')\n",
    "input = [(y[0], [z.partition(' ')[::2] for z in y[1:] if y[1:]])\n",
    "    for y in (regex.findall(x) for x in f.read().split('\\n')[:-1])]\n",
    "# input\n"
   ]
  },
  {
   "attachments": {},
   "cell_type": "markdown",
   "metadata": {},
   "source": [
    "### Part 1"
   ]
  },
  {
   "cell_type": "code",
   "execution_count": 155,
   "metadata": {},
   "outputs": [
    {
     "data": {
      "text/plain": [
       "148"
      ]
     },
     "execution_count": 155,
     "metadata": {},
     "output_type": "execute_result"
    }
   ],
   "source": [
    "\n",
    "from collections import deque\n",
    "\n",
    "colors:\"dict[str, list[tuple[str, str]]]\"=dict(input)\n",
    "\n",
    "has=dict.fromkeys(colors.keys(), 0)\n",
    "bottomup={ x:set() for x in colors.keys()}\n",
    "\n",
    "for key, val in colors.items():\n",
    "  for item in val:\n",
    "    bottomup[item[1]].add(key)\n",
    "\n",
    "q = deque(['shiny gold'])\n",
    "while len(q):\n",
    "  bag = q.popleft()\n",
    "  has[bag] = 1\n",
    "  for v in bottomup[bag]: q.append(v)\n",
    "has['shiny gold']=0\n",
    "sum(has.values())\n"
   ]
  },
  {
   "attachments": {},
   "cell_type": "markdown",
   "metadata": {},
   "source": [
    "### Part 2"
   ]
  },
  {
   "cell_type": "code",
   "execution_count": 156,
   "metadata": {},
   "outputs": [
    {
     "data": {
      "text/plain": [
       "24867"
      ]
     },
     "execution_count": 156,
     "metadata": {},
     "output_type": "execute_result"
    }
   ],
   "source": [
    "def bagCount(color):\n",
    "  return (sum([int(quantity) * bagCount(subcolor) for (quantity,subcolor) in colors[color]]) if len(colors[color]) > 0 else 0) + 1\n",
    "\n",
    "bagCount('shiny gold')-1"
   ]
  }
 ],
 "metadata": {
  "kernelspec": {
   "display_name": "tutorial-env",
   "language": "python",
   "name": "python3"
  },
  "language_info": {
   "codemirror_mode": {
    "name": "ipython",
    "version": 3
   },
   "file_extension": ".py",
   "mimetype": "text/x-python",
   "name": "python",
   "nbconvert_exporter": "python",
   "pygments_lexer": "ipython3",
   "version": "3.8.9"
  },
  "orig_nbformat": 4,
  "vscode": {
   "interpreter": {
    "hash": "6e5366f6832586de81415026a94192533c7e3eae2b1f681a9f6fc3cd22ae0fb1"
   }
  }
 },
 "nbformat": 4,
 "nbformat_minor": 2
}
