{
 "cells": [
  {
   "cell_type": "code",
   "execution_count": 64,
   "metadata": {},
   "outputs": [],
   "source": [
    "SAMPLE=False\n",
    "\n",
    "f=open('input_sample.txt' if SAMPLE else 'input.txt')\n",
    "input = [(a,int(b)) for [a,b] in (x.split(' ') for x in f.read().split('\\n')[:-1])]\n",
    "# input"
   ]
  },
  {
   "attachments": {},
   "cell_type": "markdown",
   "metadata": {},
   "source": [
    "### Part 1"
   ]
  },
  {
   "cell_type": "code",
   "execution_count": 60,
   "metadata": {},
   "outputs": [
    {
     "data": {
      "text/plain": [
       "5"
      ]
     },
     "execution_count": 60,
     "metadata": {},
     "output_type": "execute_result"
    }
   ],
   "source": [
    "def runProgram():\n",
    "  acc=0\n",
    "  idx=0\n",
    "  execd={x:0 for x in range(len(input))}\n",
    "\n",
    "  while execd[idx]==0:\n",
    "    cmd,num=input[idx]\n",
    "    execd[idx]=1\n",
    "    if cmd=='acc': acc+=num\n",
    "    idx+=num if cmd=='jmp' else 1\n",
    "  return acc\n",
    "\n",
    "runProgram()"
   ]
  },
  {
   "attachments": {},
   "cell_type": "markdown",
   "metadata": {},
   "source": [
    "### Part 2"
   ]
  },
  {
   "cell_type": "code",
   "execution_count": 66,
   "metadata": {},
   "outputs": [
    {
     "name": "stdout",
     "output_type": "stream",
     "text": [
      "Hit the end of the operation list\n",
      "2477\n"
     ]
    }
   ],
   "source": [
    "def runProgram(change_idx:int, newop:str):\n",
    "  acc=0\n",
    "  idx=0\n",
    "  execd={x:0 for x in range(len(input))}\n",
    "\n",
    "  while execd[idx]==0:\n",
    "    cmd,num=input[idx]\n",
    "    execd[idx]=1\n",
    "    if(idx==change_idx):\n",
    "      cmd=newop\n",
    "\n",
    "    if cmd=='acc': acc+=num\n",
    "    idx+=num if cmd=='jmp' else 1\n",
    "\n",
    "    if idx==len(input):\n",
    "      print('Hit the end of the operation list')\n",
    "      print(acc)\n",
    "      return True\n",
    "  return False\n",
    "\n",
    "tries={i:('nop' if x[0]=='jmp' else 'jmp') for i,x in enumerate(input) if x[0]!='acc'}\n",
    "\n",
    "for index,newop in tries.items():\n",
    "  if runProgram(index, newop):\n",
    "    break"
   ]
  }
 ],
 "metadata": {
  "kernelspec": {
   "display_name": "tutorial-env",
   "language": "python",
   "name": "python3"
  },
  "language_info": {
   "codemirror_mode": {
    "name": "ipython",
    "version": 3
   },
   "file_extension": ".py",
   "mimetype": "text/x-python",
   "name": "python",
   "nbconvert_exporter": "python",
   "pygments_lexer": "ipython3",
   "version": "3.8.9"
  },
  "orig_nbformat": 4,
  "vscode": {
   "interpreter": {
    "hash": "6e5366f6832586de81415026a94192533c7e3eae2b1f681a9f6fc3cd22ae0fb1"
   }
  }
 },
 "nbformat": 4,
 "nbformat_minor": 2
}
