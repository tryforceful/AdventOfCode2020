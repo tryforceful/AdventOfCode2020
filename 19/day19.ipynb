{
 "cells": [
  {
   "cell_type": "code",
   "execution_count": 116,
   "metadata": {},
   "outputs": [],
   "source": [
    "SAMPLE=False\n",
    "\n",
    "def load_input(file):\n",
    "  with open(file) as f:\n",
    "    rules,messages=[l for l in f.read().split('\\n\\n')]\n",
    "\n",
    "    rules=dict((int(y[0]), [(int(z) if z.isdigit() else z) for z in y[1].split(' ')]) for y in [x.split(': ') for x in rules.splitlines()])\n",
    "    messages=messages.splitlines()\n",
    "    return rules,messages\n",
    "\n",
    "rules,messages=load_input('input_sample.txt' if SAMPLE else 'input.txt')\n",
    "\n",
    "if SAMPLE: print(rules); print(messages)"
   ]
  },
  {
   "attachments": {},
   "cell_type": "markdown",
   "metadata": {},
   "source": [
    "### Part 1"
   ]
  },
  {
   "cell_type": "code",
   "execution_count": 117,
   "metadata": {},
   "outputs": [
    {
     "data": {
      "text/plain": [
       "230"
      ]
     },
     "execution_count": 117,
     "metadata": {},
     "output_type": "execute_result"
    }
   ],
   "source": [
    "def processKey(key: int = 0) -> str:\n",
    "  \"\"\"Recursive replace dict with true ab values\"\"\"\n",
    "  val = rules[key]\n",
    "\n",
    "  if not isinstance(val, str):\n",
    "    for idx,item in enumerate(val):\n",
    "      if isinstance(item, int):\n",
    "        val[idx] = processKey(item)\n",
    "    # at this point the list should all be strings\n",
    "    rules[key] = \"(\" + \"\".join(val).replace('\"','') + \")\"\n",
    "\n",
    "  return rules[key]\n",
    "\n",
    "processKey()\n",
    "\n",
    "# Do Regex matching\n",
    "import re\n",
    "tester: re.Pattern = re.compile(rules[0])\n",
    "part1 = sum(1 if re.fullmatch(tester, m) else 0 for m in messages)\n",
    "\n",
    "assert(part1 == 2 if SAMPLE else 230)\n",
    "\n",
    "part1"
   ]
  },
  {
   "attachments": {},
   "cell_type": "markdown",
   "metadata": {},
   "source": [
    "### Part 2"
   ]
  },
  {
   "attachments": {
    "image.png": {
     "image/png": "[encoded data removed]"
    }
   },
   "cell_type": "markdown",
   "metadata": {},
   "source": [
    "\n",
    "The solution requires using more advanced regex.\n",
    "The required new rules:\n",
    "\n",
    "> 8: 42 | 42 8\n",
    "\n",
    "> 11: 42 31 | 42 11 31\n",
    "\n",
    "can be written as such in a regular expression format:\n",
    "\n",
    "```py\n",
    "rules[8] = [42,'+']\n",
    "rules[11] = [42,'{n}',31,'{n}']\n",
    "```\n",
    "However the new rule for `11` is not part of a [regular grammar](https://en.wikipedia.org/wiki/Regular_grammar#Mixing_left-regular_and_right-regular_rules) (namely that it includes both a right-regular and left-regular rule; see link). In fact it includes the paradigmatic non-regular linear form:\n",
    "\n",
    "![image.png](attachment:image.png)\n",
    "\n",
    "Because it is not part of a regular grammar, it can't be defined by just one __regular__ expresssion (regex), either. (Regexes seem to operate on right-regular grammars.)\n",
    "\n",
    "But it is still a **linear grammar** rule, so there is a way to solve for rule #11 by testing reasonably for all values of `n`, `n >= 1`, in the regex:\n",
    "\n",
    "```regex\n",
    "/42{n}31{n}/\n",
    "\n",
    "```"
   ]
  },
  {
   "cell_type": "code",
   "execution_count": 115,
   "metadata": {},
   "outputs": [
    {
     "data": {
      "text/plain": [
       "341"
      ]
     },
     "execution_count": 115,
     "metadata": {},
     "output_type": "execute_result"
    }
   ],
   "source": [
    "rules,messages=load_input('input_sample_part2.txt' if SAMPLE else 'input.txt')\n",
    "if SAMPLE: print(rules); print(messages)\n",
    "\n",
    "rules[8] = [42,'+']\n",
    "rules[11] = [42,'{n}',31,'{n}']\n",
    "\n",
    "processKey()\n",
    "\n",
    "part2 = 0\n",
    "\n",
    "# \"5\" was chosen empirically as no nonzero summands appeared after i=5\n",
    "for i in range(1,5):\n",
    "  tester: re.Pattern = re.compile(rules[0].replace(\"{n}\",\"{\" + str(i) + \"}\"))\n",
    "  part2 += sum(1 if re.fullmatch(tester, m) else 0 for m in messages)\n",
    "\n",
    "assert(part2 == 12 if SAMPLE else 342)\n",
    "\n",
    "part2"
   ]
  }
 ],
 "metadata": {
  "kernelspec": {
   "display_name": "Python 3",
   "language": "python",
   "name": "python3"
  },
  "language_info": {
   "codemirror_mode": {
    "name": "ipython",
    "version": 3
   },
   "file_extension": ".py",
   "mimetype": "text/x-python",
   "name": "python",
   "nbconvert_exporter": "python",
   "pygments_lexer": "ipython3",
   "version": "3.11.1"
  },
  "orig_nbformat": 4,
  "vscode": {
   "interpreter": {
    "hash": "aee8b7b246df8f9039afb4144a1f6fd8d2ca17a180786b69acc140d282b71a49"
   }
  }
 },
 "nbformat": 4,
 "nbformat_minor": 2
}
