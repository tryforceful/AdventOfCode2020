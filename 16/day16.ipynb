{
 "cells": [
  {
   "cell_type": "code",
   "execution_count": 140,
   "metadata": {},
   "outputs": [],
   "source": [
    "import re\n",
    "\n",
    "SAMPLE=False\n",
    "\n",
    "f=open('input_sample_part2.txt' if SAMPLE else 'input.txt')\n",
    "\n",
    "input=[line.splitlines() for line in f.read().split('\\n\\n')]\n",
    "if SAMPLE: print(input)\n",
    "\n",
    "fields=tuple(re.split(': |-| or ', x) for x in input[0])\n",
    "mine=tuple(int(q) for q in input[1][1].split(','))\n",
    "nearby=tuple([int(q) for q in a.split(',')] for a in input[2][1:])\n",
    "\n",
    "if SAMPLE: print(fields,nearby)"
   ]
  },
  {
   "attachments": {},
   "cell_type": "markdown",
   "metadata": {},
   "source": [
    "### Part 1"
   ]
  },
  {
   "cell_type": "code",
   "execution_count": 141,
   "metadata": {},
   "outputs": [
    {
     "data": {
      "text/plain": [
       "30869"
      ]
     },
     "execution_count": 141,
     "metadata": {},
     "output_type": "execute_result"
    }
   ],
   "source": [
    "part1 = 0\n",
    "valid = []\n",
    "\n",
    "for row in nearby:\n",
    "  isValidTicket = True\n",
    "  for num in row:\n",
    "    outOfBounds = True\n",
    "    for (field, f1, t1, f2, t2) in fields:\n",
    "      if (num >= int(f1) and num <= int(t1)) or (num >= int(f2) and num <= int(t2)):\n",
    "        outOfBounds = False\n",
    "        break\n",
    "    if outOfBounds:\n",
    "      part1 += num\n",
    "      isValidTicket = False\n",
    "  if isValidTicket:\n",
    "    valid.append(row)\n",
    "\n",
    "part1"
   ]
  },
  {
   "attachments": {},
   "cell_type": "markdown",
   "metadata": {},
   "source": [
    "### Part 2"
   ]
  },
  {
   "cell_type": "code",
   "execution_count": 142,
   "metadata": {},
   "outputs": [
    {
     "data": {
      "text/plain": [
       "4381476149273"
      ]
     },
     "execution_count": 142,
     "metadata": {},
     "output_type": "execute_result"
    }
   ],
   "source": [
    "import math\n",
    "\n",
    "sets = dict(zip(range(len(valid[0])), [{x[0] for x in fields} for _ in fields]))\n",
    "\n",
    "# reduce sets to only valid options\n",
    "for row in valid:\n",
    "  for idx,num in enumerate(row):\n",
    "    if len(sets[idx]) <= 1: continue\n",
    "\n",
    "    sets[idx] &= {\n",
    "      field\n",
    "      for (field, f1, t1, f2, t2) in fields\n",
    "      if (num >= int(f1) and num <= int(t1)) or (num >= int(f2) and num <= int(t2))\n",
    "    }\n",
    "\n",
    "ordered_fields: \"list[None | str]\" = [None]*len(sets)\n",
    "\n",
    "# match each field to a position in the ordered list\n",
    "while len(sets):\n",
    "  for idx,set in tuple(sets.items()):\n",
    "    if len(set)==1:\n",
    "      field=set.pop()\n",
    "      ordered_fields[idx] = field\n",
    "      sets.pop(idx)\n",
    "      for set2 in sets.values():\n",
    "        if field in set2:\n",
    "          set2.remove(field)\n",
    "\n",
    "# get part2 solution from \"my\" ticket\n",
    "product = math.prod(\n",
    "  mine[idx] for idx,x in enumerate(ordered_fields)\n",
    "  if x and x.startswith('departure')\n",
    ")\n",
    "\n",
    "if not SAMPLE: assert(product == 4381476149273)\n",
    "\n",
    "product"
   ]
  }
 ],
 "metadata": {
  "kernelspec": {
   "display_name": "tutorial-env",
   "language": "python",
   "name": "python3"
  },
  "language_info": {
   "codemirror_mode": {
    "name": "ipython",
    "version": 3
   },
   "file_extension": ".py",
   "mimetype": "text/x-python",
   "name": "python",
   "nbconvert_exporter": "python",
   "pygments_lexer": "ipython3",
   "version": "3.8.9"
  },
  "orig_nbformat": 4,
  "vscode": {
   "interpreter": {
    "hash": "6e5366f6832586de81415026a94192533c7e3eae2b1f681a9f6fc3cd22ae0fb1"
   }
  }
 },
 "nbformat": 4,
 "nbformat_minor": 2
}
