{
 "cells": [
  {
   "cell_type": "code",
   "execution_count": 93,
   "metadata": {},
   "outputs": [],
   "source": [
    "SAMPLE=False\n",
    "\n",
    "f=open('input_sample.txt' if SAMPLE else 'input.txt')\n",
    "input = tuple(int(x) for x in f.read().split('\\n')[:-1])"
   ]
  },
  {
   "attachments": {},
   "cell_type": "markdown",
   "metadata": {},
   "source": [
    "### Part 1"
   ]
  },
  {
   "cell_type": "code",
   "execution_count": 94,
   "metadata": {},
   "outputs": [
    {
     "name": "stdout",
     "output_type": "stream",
     "text": [
      "75 33\n"
     ]
    },
    {
     "data": {
      "text/plain": [
       "2475"
      ]
     },
     "execution_count": 94,
     "metadata": {},
     "output_type": "execute_result"
    }
   ],
   "source": [
    "adapters=list(input)\n",
    "adapters.append(0)\n",
    "adapters.sort()\n",
    "adapters.append(adapters[-1]+3)\n",
    "v=[adapters[x+1] - adapters[x] for x in range(len(adapters)-1)]\n",
    "\n",
    "print(v.count(1), v.count(3))\n",
    "v.count(1) * v.count(3)"
   ]
  },
  {
   "attachments": {},
   "cell_type": "markdown",
   "metadata": {},
   "source": [
    "### Part 2"
   ]
  },
  {
   "cell_type": "code",
   "execution_count": 95,
   "metadata": {},
   "outputs": [
    {
     "name": "stdout",
     "output_type": "stream",
     "text": [
      "442136281481216\n"
     ]
    }
   ],
   "source": [
    "\"\"\"\n",
    "1 -> 1 combination\n",
    "11 -> 2 combinations\n",
    "111 -> 4 combinations (4567, 457, 467, 47)\n",
    "1111 -> 7 combinations (45678, 4568, 4578, 4678, 458, 468, 478) \n",
    "there are no instances of 5+ 1s, thankfully(?)\n",
    "\"\"\"\n",
    "\n",
    "gapcounts=''.join(str(x) for x in v)\n",
    "\n",
    "total = 1\n",
    "total *= 7 ** gapcounts.count('1111')\n",
    "gapcounts = gapcounts.replace('1111','')\n",
    "total *= 4 ** gapcounts.count('111')\n",
    "gapcounts = gapcounts.replace('111','')\n",
    "total *= 2 ** gapcounts.count('11')\n",
    "gapcounts = gapcounts.replace('11','')\n",
    "\n",
    "print(total)"
   ]
  }
 ],
 "metadata": {
  "kernelspec": {
   "display_name": "tutorial-env",
   "language": "python",
   "name": "python3"
  },
  "language_info": {
   "codemirror_mode": {
    "name": "ipython",
    "version": 3
   },
   "file_extension": ".py",
   "mimetype": "text/x-python",
   "name": "python",
   "nbconvert_exporter": "python",
   "pygments_lexer": "ipython3",
   "version": "3.8.9"
  },
  "orig_nbformat": 4,
  "vscode": {
   "interpreter": {
    "hash": "6e5366f6832586de81415026a94192533c7e3eae2b1f681a9f6fc3cd22ae0fb1"
   }
  }
 },
 "nbformat": 4,
 "nbformat_minor": 2
}
