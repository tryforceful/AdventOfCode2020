{
 "cells": [
  {
   "cell_type": "code",
   "execution_count": 26,
   "metadata": {},
   "outputs": [],
   "source": [
    "from typing import Literal\n",
    "\n",
    "SAMPLE=False\n",
    "\n",
    "f=open('input_sample.txt' if SAMPLE else 'input.txt')\n",
    "input:\"tuple[tuple[Literal['N','S','E','W','L','R','F'], int]]\" = tuple((x[0], int(x[1:])) for x in f.read().split('\\n')[:-1])\n",
    "if SAMPLE: print(input)"
   ]
  },
  {
   "attachments": {},
   "cell_type": "markdown",
   "metadata": {},
   "source": [
    "### Part 1"
   ]
  },
  {
   "cell_type": "code",
   "execution_count": 27,
   "metadata": {},
   "outputs": [
    {
     "name": "stdout",
     "output_type": "stream",
     "text": [
      "1589\n"
     ]
    }
   ],
   "source": [
    "def part1():\n",
    "  x=0; y=0; dir=1\n",
    "  dirs='NESW'\n",
    "\n",
    "  for cmd,num in input:\n",
    "    if cmd=='F':\n",
    "      cmd=dirs[dir]\n",
    "    if cmd in ('N','S'):\n",
    "      y += num * (1 if cmd=='N' else -1)\n",
    "    elif cmd in ('E','W'):\n",
    "      x += num * (1 if cmd=='E' else -1)\n",
    "    elif cmd in ('L','R'):\n",
    "      dir = (dir + num//90 * (1 if cmd=='R' else -1)) % 4\n",
    "    else: raise LookupError\n",
    "\n",
    "  return (x,y)\n",
    "\n",
    "x,y=part1()\n",
    "print(p1:=abs(x)+abs(y))\n",
    "if not SAMPLE: assert(p1==1589)"
   ]
  },
  {
   "attachments": {},
   "cell_type": "markdown",
   "metadata": {},
   "source": [
    "### Part 2"
   ]
  },
  {
   "cell_type": "code",
   "execution_count": 31,
   "metadata": {},
   "outputs": [
    {
     "name": "stdout",
     "output_type": "stream",
     "text": [
      "23960\n"
     ]
    }
   ],
   "source": [
    "def part2():\n",
    "  waypoint:\"list[int]\"=[10,1]\n",
    "  x=0; y=0\n",
    "\n",
    "  for cmd,num in input:\n",
    "    if cmd=='F':\n",
    "      x+=waypoint[0]*num; y+=waypoint[1]*num;\n",
    "    elif cmd in ('N','S'):\n",
    "      waypoint[1] += num * (1 if cmd=='N' else -1)\n",
    "    elif cmd in ('E','W'):\n",
    "      waypoint[0] += num * (1 if cmd=='E' else -1)\n",
    "    elif cmd in ('L','R'):\n",
    "      rotation = (num//90 * (1 if cmd=='R' else -1)) % 4\n",
    "      a,b=waypoint\n",
    "      if rotation==1:\n",
    "        waypoint=[b,-a]\n",
    "      elif rotation==2:\n",
    "        waypoint=[-a,-b]\n",
    "      elif rotation==3:\n",
    "        waypoint=[-b,a]\n",
    "    else: raise LookupError\n",
    "\n",
    "  return (x,y)\n",
    "\n",
    "x,y=part2()\n",
    "print(p2:=abs(x)+abs(y))\n",
    "if not SAMPLE: assert(p2==23960)"
   ]
  }
 ],
 "metadata": {
  "kernelspec": {
   "display_name": "tutorial-env",
   "language": "python",
   "name": "python3"
  },
  "language_info": {
   "codemirror_mode": {
    "name": "ipython",
    "version": 3
   },
   "file_extension": ".py",
   "mimetype": "text/x-python",
   "name": "python",
   "nbconvert_exporter": "python",
   "pygments_lexer": "ipython3",
   "version": "3.8.9"
  },
  "orig_nbformat": 4,
  "vscode": {
   "interpreter": {
    "hash": "6e5366f6832586de81415026a94192533c7e3eae2b1f681a9f6fc3cd22ae0fb1"
   }
  }
 },
 "nbformat": 4,
 "nbformat_minor": 2
}
