{
 "cells": [
  {
   "cell_type": "code",
   "execution_count": 95,
   "metadata": {},
   "outputs": [],
   "source": [
    "SAMPLE=False\n",
    "\n",
    "f=open('input_sample.txt' if SAMPLE else 'input.txt')\n",
    "\n",
    "input=[[*line] for line in f.read().splitlines()]\n",
    "if SAMPLE: print(input)"
   ]
  },
  {
   "attachments": {},
   "cell_type": "markdown",
   "metadata": {},
   "source": [
    "### Parts 1 & 2"
   ]
  },
  {
   "attachments": {},
   "cell_type": "markdown",
   "metadata": {},
   "source": [
    "Wrote a generalized solution for n >= 2 dimensions"
   ]
  },
  {
   "cell_type": "code",
   "execution_count": 112,
   "metadata": {},
   "outputs": [
    {
     "name": "stdout",
     "output_type": "stream",
     "text": [
      "Computing for 3 dimensions\n",
      "Total active on cycle #1: 72\n",
      "Total active on cycle #2: 63\n",
      "Total active on cycle #3: 151\n",
      "Total active on cycle #4: 136\n",
      "Total active on cycle #5: 212\n",
      "Total active on cycle #6: 213\n",
      "Computing for 4 dimensions\n",
      "Total active on cycle #1: 198\n",
      "Total active on cycle #2: 169\n",
      "Total active on cycle #3: 912\n",
      "Total active on cycle #4: 584\n",
      "Total active on cycle #5: 2144\n",
      "Total active on cycle #6: 1624\n"
     ]
    }
   ],
   "source": [
    "from itertools import product\n",
    "\n",
    "def day17(n = 3):\n",
    "  \"\"\"\n",
    "  This is a generalized solution with `n >= 2` representing the number of spatial dimensions in the pocket dimension\n",
    "  \"\"\"\n",
    "  if n < 2:\n",
    "    raise ValueError('invalid number of dimensions `n`')\n",
    "\n",
    "  print(f'Computing for {n} dimensions')\n",
    "\n",
    "  coord_set = {\n",
    "    (x,y, *[0]*(n-2))\n",
    "      for x,slice in enumerate(input)\n",
    "      for y,voxel in enumerate(slice)\n",
    "      if voxel == '#'\n",
    "  }\n",
    "\n",
    "  def cycleGen(previous: \"set[tuple[int,...]]\" = coord_set):\n",
    "    iteration = 1\n",
    "    while 1:\n",
    "      next_coord_set = previous.copy()\n",
    "\n",
    "      ranges = (\n",
    "        range(min(axis)-1, max(axis)+2)\n",
    "        for axis in zip(*previous)\n",
    "      )\n",
    "\n",
    "      testpoints = product(*ranges)\n",
    "\n",
    "      for coord in testpoints:\n",
    "        isActive = coord in previous\n",
    "\n",
    "        neighbors = {\n",
    "          tuple(x+y for x,y in zip(neighbor, coord))\n",
    "          for neighbor in product(*[range(-1,2)]*n)\n",
    "          if neighbor != tuple([0])*n\n",
    "        }\n",
    "\n",
    "        activeNeighborCount = len(neighbors & previous)\n",
    "\n",
    "        if isActive and activeNeighborCount not in (2,3):\n",
    "          next_coord_set.remove(coord)\n",
    "\n",
    "        elif not isActive and activeNeighborCount == 3:\n",
    "          next_coord_set.add(coord)\n",
    "\n",
    "      print(f'Total active on cycle #{iteration}:', len(next_coord_set))\n",
    "\n",
    "      yield next_coord_set\n",
    "\n",
    "      previous = next_coord_set\n",
    "      iteration += 1\n",
    "\n",
    "  cycle = cycleGen()\n",
    "  for _ in range(6):\n",
    "    next(cycle)\n",
    "\n",
    "day17(3)\n",
    "day17(4)\n",
    "\n",
    "# Performance is < 10s for 3 & 4 dimensions together"
   ]
  }
 ],
 "metadata": {
  "kernelspec": {
   "display_name": "tutorial-env",
   "language": "python",
   "name": "python3"
  },
  "language_info": {
   "codemirror_mode": {
    "name": "ipython",
    "version": 3
   },
   "file_extension": ".py",
   "mimetype": "text/x-python",
   "name": "python",
   "nbconvert_exporter": "python",
   "pygments_lexer": "ipython3",
   "version": "3.8.9"
  },
  "orig_nbformat": 4,
  "vscode": {
   "interpreter": {
    "hash": "6e5366f6832586de81415026a94192533c7e3eae2b1f681a9f6fc3cd22ae0fb1"
   }
  }
 },
 "nbformat": 4,
 "nbformat_minor": 2
}
