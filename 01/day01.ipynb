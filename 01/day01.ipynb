{
 "cells": [
  {
   "cell_type": "code",
   "execution_count": 124,
   "metadata": {},
   "outputs": [
    {
     "name": "stdout",
     "output_type": "stream",
     "text": [
      "Part 1: product 514579\n",
      "Part 2: product 241861950\n"
     ]
    }
   ],
   "source": [
    "SAMPLE=True\n",
    "\n",
    "f=open('input_sample.txt' if SAMPLE else 'input.txt')\n",
    "input = [int(x) for x in f.read().split('\\n')[:-1]]\n",
    "\n",
    "def part1():\n",
    "  for x in input[1:]:\n",
    "    for y in input[:x]:\n",
    "      if x+y==2020:\n",
    "        print('Part 1: product', x*y)\n",
    "        return\n",
    "\n",
    "def part2():\n",
    "  for x in input[2:]:\n",
    "    for y in input[1:x]:\n",
    "      for z in input[:y]:\n",
    "        if x+y+z==2020:\n",
    "          print('Part 2: product', x*y*z)\n",
    "          return\n",
    "\n",
    "part1()\n",
    "part2()"
   ]
  }
 ],
 "metadata": {
  "kernelspec": {
   "display_name": "tutorial-env",
   "language": "python",
   "name": "python3"
  },
  "language_info": {
   "codemirror_mode": {
    "name": "ipython",
    "version": 3
   },
   "file_extension": ".py",
   "mimetype": "text/x-python",
   "name": "python",
   "nbconvert_exporter": "python",
   "pygments_lexer": "ipython3",
   "version": "3.8.9"
  },
  "orig_nbformat": 4,
  "vscode": {
   "interpreter": {
    "hash": "6e5366f6832586de81415026a94192533c7e3eae2b1f681a9f6fc3cd22ae0fb1"
   }
  }
 },
 "nbformat": 4,
 "nbformat_minor": 2
}
